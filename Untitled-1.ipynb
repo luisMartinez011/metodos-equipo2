{
 "cells": [
  {
   "cell_type": "code",
   "execution_count": 21,
   "metadata": {},
   "outputs": [
    {
     "data": {
      "text/plain": [
       "-0.36"
      ]
     },
     "execution_count": 21,
     "metadata": {},
     "output_type": "execute_result"
    }
   ],
   "source": [
    "import pandas as pd\n",
    "import numpy as np\n",
    "import functools\n",
    "\n",
    "roundValue = 9\n",
    "x = 3\n",
    "xi = [1.7, 2.4, 3.1]\n",
    "yi = [0.35, 0.87, 1.03]\n",
    "coords = pd.DataFrame(list(zip(xi, yi)),\n",
    "    columns=[\"xi\",\"yi\"])\n",
    "\n",
    "save_H_Values = []\n",
    "for i in range(len(coords.xi)):\n",
    "    if i == 0: continue\n",
    "    save_H_Values.append(np.round(coords.xi[i] - coords.xi[i-1],roundValue))\n",
    "\n",
    "\n",
    "is_H_Unique = save_H_Values.count(save_H_Values[0]) == len(save_H_Values)\n",
    "if (is_H_Unique):\n",
    "   h = save_H_Values[0]\n",
    "else:\n",
    "    print(\"No tiene intervalos uniformes h\")\n",
    "\n",
    "s = np.round((x - coords.xi[0]) / h, roundValue)\n",
    "s\n",
    "n = 2\n",
    "previousValue = 1\n",
    "\n",
    "s0 = 1\n",
    "s1 = s\n",
    "s2 = s*(s-1)/ np.math.factorial(2)\n",
    "\n",
    "\n",
    "delta = []\n",
    "def agregarDelta(x, y): \n",
    "    delta.append(np.round((y-x),9))\n",
    "    return y\n",
    "    \n",
    "for i in range(len(coords.yi)-1):\n",
    "    if i == 0: \n",
    "        functools.reduce(agregarDelta , coords.yi)\n",
    "    else:\n",
    "        savePreviousDeltas = list(delta)\n",
    "        functools.reduce(agregarDelta , savePreviousDeltas)\n",
    "\n",
    "g_x = coords.yi[0] * s0 + delta[0]*s1 + delta[2] * s2\n",
    "g_x = np.round(g_x,9)\n"
   ]
  },
  {
   "cell_type": "code",
   "execution_count": null,
   "metadata": {},
   "outputs": [],
   "source": []
  }
 ],
 "metadata": {
  "kernelspec": {
   "display_name": "Python 3.8.10 64-bit",
   "language": "python",
   "name": "python3"
  },
  "language_info": {
   "codemirror_mode": {
    "name": "ipython",
    "version": 3
   },
   "file_extension": ".py",
   "mimetype": "text/x-python",
   "name": "python",
   "nbconvert_exporter": "python",
   "pygments_lexer": "ipython3",
   "version": "3.8.10"
  },
  "orig_nbformat": 4,
  "vscode": {
   "interpreter": {
    "hash": "916dbcbb3f70747c44a77c7bcd40155683ae19c65e1c03b4aa3499c5328201f1"
   }
  }
 },
 "nbformat": 4,
 "nbformat_minor": 2
}
